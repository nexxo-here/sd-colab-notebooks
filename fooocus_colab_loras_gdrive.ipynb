{
  "cells": [
    {
      "cell_type": "markdown",
      "metadata": {
        "id": "view-in-github",
        "colab_type": "text"
      },
      "source": [
        "<a href=\"https://colab.research.google.com/github/xjdeng/sd-colab-notebooks/blob/main/fooocus_colab_loras_gdrive.ipynb\" target=\"_parent\"><img src=\"https://colab.research.google.com/assets/colab-badge.svg\" alt=\"Open In Colab\"/></a>"
      ]
    },
    {
      "cell_type": "code",
      "source": [
        "# @markdown # Install Fooocus and mount Gdrive\n",
        "\n",
        "from google.colab import drive\n",
        "drive.mount('/content/drive')\n",
        "!pip install pygit2==1.15.1\n",
        "%cd /content\n",
        "!git clone https://github.com/lllyasviel/Fooocus.git\n",
        "%cd /content/Fooocus"
      ],
      "metadata": {
        "cellView": "form",
        "id": "avMQf5Vsamgx"
      },
      "execution_count": null,
      "outputs": []
    },
    {
      "cell_type": "code",
      "source": [
        "# @markdown # Copy a LoRA\n",
        "\n",
        "# @markdown (To download multiple LoRAs, run this multiple times but make sure they're all SDXL compatible)\n",
        "\n",
        "LoRA_Path = \"\" # @param {\"type\":\"string\"}\n",
        "\n",
        "import os\n",
        "\n",
        "# Make sure destination directory exists\n",
        "os.makedirs(\"models/lora\", exist_ok=True)\n",
        "\n",
        "# Only proceed if LoRA_URL is non-empty\n",
        "if LoRA_Path.strip():\n",
        "    !cp $LoRA_Path models/lora"
      ],
      "metadata": {
        "cellView": "form",
        "id": "Ni3wLD0Ea2jH"
      },
      "execution_count": null,
      "outputs": []
    },
    {
      "cell_type": "code",
      "execution_count": null,
      "metadata": {
        "id": "VjYy0F2gZIPR",
        "cellView": "form",
        "collapsed": true
      },
      "outputs": [],
      "source": [
        "# @markdown # Launch Fooocus\n",
        "\n",
        "!python entry_with_update.py --share --always-high-vram\n"
      ]
    }
  ],
  "metadata": {
    "accelerator": "GPU",
    "colab": {
      "gpuType": "T4",
      "provenance": [],
      "include_colab_link": true
    },
    "kernelspec": {
      "display_name": "Python 3",
      "name": "python3"
    },
    "language_info": {
      "name": "python"
    }
  },
  "nbformat": 4,
  "nbformat_minor": 0
}